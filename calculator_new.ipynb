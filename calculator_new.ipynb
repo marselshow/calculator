{
  "nbformat": 4,
  "nbformat_minor": 0,
  "metadata": {
    "colab": {
      "name": "calculator.ipynb",
      "provenance": [],
      "authorship_tag": "ABX9TyNWF9QXhRdCiLh8rclfdkgY",
      "include_colab_link": true
    },
    "kernelspec": {
      "name": "python3",
      "display_name": "Python 3"
    },
    "language_info": {
      "name": "python"
    }
  },
  "cells": [
    {
      "cell_type": "markdown",
      "metadata": {
        "id": "view-in-github",
        "colab_type": "text"
      },
      "source": [
        "<a href=\"https://colab.research.google.com/github/marselshow/calculator/blob/main/calculator_new.ipynb\" target=\"_parent\"><img src=\"https://colab.research.google.com/assets/colab-badge.svg\" alt=\"Open In Colab\"/></a>"
      ]
    },
    {
      "cell_type": "markdown",
      "source": [
        "Клонируем репозиторий"
      ],
      "metadata": {
        "id": "yIoC0UWWxSAc"
      }
    },
    {
      "cell_type": "code",
      "execution_count": null,
      "metadata": {
        "id": "e80iViayxNAP"
      },
      "outputs": [],
      "source": [
        "!git clone https://github.com/marselshow/calculator/"
      ]
    },
    {
      "cell_type": "markdown",
      "source": [
        "Переходим в директорию"
      ],
      "metadata": {
        "id": "m1W300SJ60nH"
      }
    },
    {
      "cell_type": "code",
      "source": [
        "cd calculator"
      ],
      "metadata": {
        "id": "f27JqqJA64e_"
      },
      "execution_count": null,
      "outputs": []
    },
    {
      "cell_type": "markdown",
      "source": [
        "Калькулятор жизни кота"
      ],
      "metadata": {
        "id": "7RmovSa8xZHT"
      }
    },
    {
      "cell_type": "code",
      "source": [
        "!python cat_calc.py"
      ],
      "metadata": {
        "id": "FhUwE1dTxn4b"
      },
      "execution_count": null,
      "outputs": []
    },
    {
      "cell_type": "markdown",
      "source": [
        "Калькулятор жизни собаки"
      ],
      "metadata": {
        "id": "19Kk3OAMxttt"
      }
    },
    {
      "cell_type": "code",
      "source": [
        "!python dog_calc.py"
      ],
      "metadata": {
        "id": "Baog1Dsbxxgp"
      },
      "execution_count": null,
      "outputs": []
    },
    {
      "cell_type": "markdown",
      "source": [
        "Калькулятор жизни человека"
      ],
      "metadata": {
        "id": "fgygHLbgx18J"
      }
    },
    {
      "cell_type": "code",
      "source": [
        "!python people_calc.py"
      ],
      "metadata": {
        "id": "YjF67KRHx900"
      },
      "execution_count": null,
      "outputs": []
    }
  ]
}